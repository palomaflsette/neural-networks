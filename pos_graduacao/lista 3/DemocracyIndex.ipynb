{
 "cells": [
  {
   "attachments": {},
   "cell_type": "markdown",
   "metadata": {
    "collapsed": true
   },
   "source": [
    "Teste de SOM usando <a href=\"https://en.wikipedia.org/wiki/Democracy_Index\">Democracy Index data</a> - Wikipedia."
   ]
  },
  {
   "cell_type": "code",
   "execution_count": null,
   "metadata": {},
   "outputs": [],
   "source": [
    "!git clone https://github.com/mdrs-thiago/minisom --quiet"
   ]
  },
  {
   "cell_type": "code",
   "execution_count": null,
   "metadata": {},
   "outputs": [],
   "source": [
    "import os \n",
    "os.chdir('minisom')"
   ]
  },
  {
   "cell_type": "code",
   "execution_count": null,
   "metadata": {},
   "outputs": [],
   "source": [
    "import numpy as np\n",
    "import pandas as pd\n",
    "from minisom import MiniSom\n",
    "from sklearn.preprocessing import scale\n",
    "import matplotlib.pyplot as plt \n",
    "\n",
    "democracy_index = pd.read_csv('https://raw.githubusercontent.com/mdrs-thiago/PUC_Redes_Neurais/main/datasets/democracy_index.csv')"
   ]
  },
  {
   "cell_type": "code",
   "execution_count": null,
   "metadata": {},
   "outputs": [],
   "source": [
    "democracy_index.head()"
   ]
  },
  {
   "attachments": {},
   "cell_type": "markdown",
   "metadata": {},
   "source": [
    "Vamos avaliar se estas características estão alinhadas com a categoria dos países, conforme a tabela acima. Para isso, vamos utilizar alguns artefatos para melhorar a visualização em um passo posterior."
   ]
  },
  {
   "cell_type": "code",
   "execution_count": null,
   "metadata": {},
   "outputs": [],
   "source": [
    "category_color = {'Full democracy': 'darkgreen',\n",
    "                  'Flawed democracy': 'limegreen',\n",
    "                  'Hybrid regime': 'darkorange',\n",
    "                  'Authoritarian': 'crimson'}\n",
    "colors_dict = {c: category_color[dm] for c, dm in zip(democracy_index.country,\n",
    "                                                      democracy_index.category)}\n",
    "\n",
    "country_codes = {'Afghanistan': 'AF',\n",
    " 'Albania': 'AL',\n",
    " 'Algeria': 'DZ',\n",
    " 'Angola': 'AO',\n",
    " 'Argentina': 'AR',\n",
    " 'Armenia': 'AM',\n",
    " 'Australia': 'AU',\n",
    " 'Austria': 'AT',\n",
    " 'Azerbaijan': 'AZ',\n",
    " 'Bahrain': 'BH',\n",
    " 'Bangladesh': 'BD',\n",
    " 'Belarus': 'BY',\n",
    " 'Belgium': 'BE',\n",
    " 'Benin': 'BJ',\n",
    " 'Bhutan': 'BT',\n",
    " 'Bolivia': 'BO',\n",
    " 'Bosnia and Herzegovina': 'BA',\n",
    " 'Botswana': 'BW',\n",
    " 'Brazil': 'BR',\n",
    " 'Bulgaria': 'BG',\n",
    " 'Burkina Faso': 'BF',\n",
    " 'Burundi': 'BI',\n",
    " 'Cambodia': 'KH',\n",
    " 'Cameroon': 'CM',\n",
    " 'Canada': 'CA',\n",
    " 'Cape Verde': 'CV',\n",
    " 'Central African Republic': 'CF',\n",
    " 'Chad': 'TD',\n",
    " 'Chile': 'CL',\n",
    " 'China': 'CN',\n",
    " 'Colombia': 'CO',\n",
    " 'Comoros': 'KM',\n",
    " 'Costa Rica': 'CR',\n",
    " 'Croatia': 'HR',\n",
    " 'Cuba': 'CU',\n",
    " 'Cyprus': 'CY',\n",
    " 'Czech Republic': 'CZ',\n",
    " 'Democratic Republic of the Congo': 'CD',\n",
    " 'Denmark': 'DK',\n",
    " 'Djibouti': 'DJ',\n",
    " 'Dominican Republic': 'DO',\n",
    " 'Ecuador': 'EC',\n",
    " 'Egypt': 'EG',\n",
    " 'El Salvador': 'SV',\n",
    " 'Equatorial Guinea': 'GQ',\n",
    " 'Eritrea': 'ER',\n",
    " 'Estonia': 'EE',\n",
    " 'Ethiopia': 'ET',\n",
    " 'Fiji': 'FJ',\n",
    " 'Finland': 'FI',\n",
    " 'France': 'FR',\n",
    " 'Gabon': 'GA',\n",
    " 'Gambia': 'GM',\n",
    " 'Georgia': 'GE',\n",
    " 'Germany': 'DE',\n",
    " 'Ghana': 'GH',\n",
    " 'Greece': 'GR',\n",
    " 'Guatemala': 'GT',\n",
    " 'Guinea': 'GN',\n",
    " 'Guinea-Bissau': 'GW',\n",
    " 'Guyana': 'GY',\n",
    " 'Haiti': 'HT',\n",
    " 'Honduras': 'HN',\n",
    " 'Hong Kong': 'HK',\n",
    " 'Hungary': 'HU',\n",
    " 'Iceland': 'IS',\n",
    " 'India': 'IN',\n",
    " 'Indonesia': 'ID',\n",
    " 'Iran': 'IR',\n",
    " 'Iraq': 'IQ',\n",
    " 'Ireland': 'IE',\n",
    " 'Israel': 'IL',\n",
    " 'Italy': 'IT',\n",
    " 'Ivory Coast': 'IC',\n",
    " 'Jamaica': 'JM',\n",
    " 'Japan': 'JP',\n",
    " 'Jordan': 'JO',\n",
    " 'Kazakhstan': 'KZ',\n",
    " 'Kenya': 'KE',\n",
    " 'Kuwait': 'KW',\n",
    " 'Kyrgyzstan': 'KG',\n",
    " 'Laos': 'LA',\n",
    " 'Latvia': 'LV',\n",
    " 'Lebanon': 'LB',\n",
    " 'Lesotho': 'LS',\n",
    " 'Liberia': 'LR',\n",
    " 'Libya': 'LY',\n",
    " 'Lithuania': 'LT',\n",
    " 'Luxembourg': 'LU',\n",
    " 'Macedonia': 'MK',\n",
    " 'Madagascar': 'MG',\n",
    " 'Malawi': 'MW',\n",
    " 'Malaysia': 'MY',\n",
    " 'Mali': 'ML',\n",
    " 'Malta': 'MT',\n",
    " 'Mauritania': 'MR',\n",
    " 'Mauritius': 'MU',\n",
    " 'Mexico': 'MX',\n",
    " 'Moldova': 'MD',\n",
    " 'Mongolia': 'MN',\n",
    " 'Montenegro': 'ME',\n",
    " 'Morocco': 'MA',\n",
    " 'Mozambique': 'MZ',\n",
    " 'Myanmar': 'MM',\n",
    " 'Namibia': 'NA',\n",
    " 'Nepal': 'NP',\n",
    " 'Netherlands': 'NL',\n",
    " 'New Zealand': 'NZ',\n",
    " 'North Macedonia': 'NM',\n",
    " 'Nicaragua': 'NI',\n",
    " 'Niger': 'NE',\n",
    " 'Nigeria': 'NG',\n",
    " 'North Korea': 'KP',\n",
    " 'Norway': 'NO',\n",
    " 'Oman': 'OM',\n",
    " 'Pakistan': 'PK',\n",
    " 'Palestine': 'PS',\n",
    " 'Panama': 'PA',\n",
    " 'Papua New Guinea': 'PG',\n",
    " 'Paraguay': 'PY',\n",
    " 'Peru': 'PE',\n",
    " 'Philippines': 'PH',\n",
    " 'Poland': 'PL',\n",
    " 'Portugal': 'PT',\n",
    " 'Qatar': 'QA',\n",
    " 'Republic of China (Taiwan)': 'TW',\n",
    " 'Republic of the Congo': 'CG',\n",
    " 'Romania': 'RO',\n",
    " 'Russia': 'RU',\n",
    " 'Rwanda': 'RW',\n",
    " 'Saudi Arabia': 'SA',\n",
    " 'Senegal': 'SN',\n",
    " 'Serbia': 'RS',\n",
    " 'Sierra Leone': 'SL',\n",
    " 'Singapore': 'SG',\n",
    " 'Slovakia': 'SK',\n",
    " 'Slovenia': 'SI',\n",
    " 'South Africa': 'ZA',\n",
    " 'South Korea': 'KR',\n",
    " 'Spain': 'ES',\n",
    " 'Sri Lanka': 'LK',\n",
    " 'Sudan': 'SD',\n",
    " 'Suriname': 'SR',\n",
    " 'Swaziland': 'SZ',\n",
    " 'Sweden': 'SE',\n",
    " 'Switzerland': 'CH',\n",
    " 'Syria': 'SY',\n",
    " 'Tajikistan': 'TJ',\n",
    " 'Tanzania': 'TZ',\n",
    " 'Thailand': 'TH',\n",
    " 'Timor-Leste': 'TL',\n",
    " 'Togo': 'TG',\n",
    " 'Trinidad and Tobago': 'TT',\n",
    " 'Tunisia': 'TN',\n",
    " 'Turkey': 'TR',\n",
    " 'Turkmenistan': 'TM',\n",
    " 'Uganda': 'UG',\n",
    " 'Ukraine': 'UA',\n",
    " 'United Arab Emirates': 'AE',\n",
    " 'United Kingdom': 'GB',\n",
    " 'United States': 'US',\n",
    " 'Uruguay': 'UY',\n",
    " 'Uzbekistan': 'UZ',\n",
    " 'Venezuela': 'VE',\n",
    " 'Vietnam': 'VN',\n",
    " 'Yemen': 'YE',\n",
    " 'Zambia': 'ZM',\n",
    " 'Zimbabwe': 'ZW'}"
   ]
  },
  {
   "attachments": {},
   "cell_type": "markdown",
   "metadata": {},
   "source": [
    "Selecionando os atributos para o SOM"
   ]
  },
  {
   "cell_type": "code",
   "execution_count": null,
   "metadata": {},
   "outputs": [],
   "source": [
    "feature_names = ['democracy_index', 'electoral_processand_pluralism', 'functioning_of_government',\n",
    "                 'political_participation', 'political_culture', 'civil_liberties']\n",
    "\n",
    "X = democracy_index[feature_names].values"
   ]
  },
  {
   "attachments": {},
   "cell_type": "markdown",
   "metadata": {},
   "source": [
    "E normalizando os dados!"
   ]
  },
  {
   "cell_type": "code",
   "execution_count": null,
   "metadata": {},
   "outputs": [],
   "source": [
    "X = scale(X)"
   ]
  },
  {
   "attachments": {},
   "cell_type": "markdown",
   "metadata": {},
   "source": [
    "Treinando o SOM"
   ]
  },
  {
   "cell_type": "code",
   "execution_count": null,
   "metadata": {},
   "outputs": [],
   "source": [
    "size = 12\n",
    "som = MiniSom(size, size, len(X[0]), learning_rate = 2,\n",
    "              neighborhood_function='gaussian', sigma=2,\n",
    "              random_seed=1, topology='rectangular')\n",
    "\n",
    "som.pca_weights_init(X)\n",
    "som.train_random(X, 1000, verbose=True)"
   ]
  },
  {
   "cell_type": "code",
   "execution_count": null,
   "metadata": {},
   "outputs": [],
   "source": [
    "plt.plot(som._quantization_error)\n",
    "plt.plot(som._topographic_error)"
   ]
  },
  {
   "attachments": {},
   "cell_type": "markdown",
   "metadata": {},
   "source": [
    "Mapa social dos países\n",
    "----\n",
    "\n",
    "Com o mapa já treinado, veremos de que forma o mapa está organizado. Para isso, vamos criar um mapa anotando os países correspondentes ao neurônio vencedor. Vamos usar, para isso, as variáveis criadas no início do script."
   ]
  },
  {
   "cell_type": "code",
   "execution_count": null,
   "metadata": {},
   "outputs": [],
   "source": [
    "def shorten_country(c):\n",
    "    if len(c) > 6:\n",
    "        return country_codes[c]\n",
    "    else:\n",
    "        return c\n",
    "\n",
    "country_map = som.labels_map(X, democracy_index.country)"
   ]
  },
  {
   "cell_type": "code",
   "execution_count": null,
   "metadata": {},
   "outputs": [],
   "source": [
    "som.plot_winning(country_map,alias_label=shorten_country,colorize=colors_dict,label_color=category_color)"
   ]
  },
  {
   "attachments": {},
   "cell_type": "markdown",
   "metadata": {},
   "source": [
    "Mapa das variáveis\n",
    "----\n",
    "\n",
    "Vamos fazer o mapa para cada uma das características. Iremos ver a magnitude dos pessos associados a cada neurônio."
   ]
  },
  {
   "cell_type": "code",
   "execution_count": null,
   "metadata": {},
   "outputs": [],
   "source": [
    "som.plot_map(nrows=3,ncols=2,feature_names=feature_names)"
   ]
  },
  {
   "cell_type": "code",
   "execution_count": null,
   "metadata": {},
   "outputs": [],
   "source": []
  },
  {
   "cell_type": "code",
   "execution_count": null,
   "metadata": {},
   "outputs": [],
   "source": []
  },
  {
   "cell_type": "code",
   "execution_count": null,
   "metadata": {},
   "outputs": [],
   "source": [
    "som.plot_umatrix()"
   ]
  }
 ],
 "metadata": {
  "interpreter": {
   "hash": "9650cb4e16cdd4a8e8e2d128bf38d875813998db22a3c986335f89e0cb4d7bb2"
  },
  "kernelspec": {
   "display_name": "Python 3.8.2 64-bit",
   "language": "python",
   "name": "python3"
  },
  "language_info": {
   "codemirror_mode": {
    "name": "ipython",
    "version": 3
   },
   "file_extension": ".py",
   "mimetype": "text/x-python",
   "name": "python",
   "nbconvert_exporter": "python",
   "pygments_lexer": "ipython3",
   "version": "3.8.2"
  }
 },
 "nbformat": 4,
 "nbformat_minor": 2
}
